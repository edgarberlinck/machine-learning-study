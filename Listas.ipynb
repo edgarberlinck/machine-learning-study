{
 "cells": [
  {
   "cell_type": "code",
   "execution_count": 1,
   "metadata": {},
   "outputs": [
    {
     "name": "stdout",
     "output_type": "stream",
     "text": [
      "4\n",
      "[2, 'Edgar', 5.4, ['Outra', 'Lista']]\n",
      "Lista\n",
      "[2, 'Berlinck', 5.4, ['Outra', 'Lista']]\n"
     ]
    }
   ],
   "source": [
    "#Listas no python aceitam qualquer coisa\n",
    "lista = [2, 'Edgar', 5.4, ['Outra', 'Lista']]\n",
    "print(len(lista))\n",
    "print(lista)\n",
    "print(lista[-1][-1])\n",
    "lista[1] = 'Berlinck'\n",
    "print(lista)"
   ]
  },
  {
   "cell_type": "code",
   "execution_count": 2,
   "metadata": {},
   "outputs": [
    {
     "name": "stdout",
     "output_type": "stream",
     "text": [
      "2 Berlinck 5.4 ['Outra', 'Lista'] "
     ]
    }
   ],
   "source": [
    "cont = 0\n",
    "while cont < len(lista):\n",
    "    print(lista[cont], end = ' ')\n",
    "    cont += 1"
   ]
  },
  {
   "cell_type": "code",
   "execution_count": 3,
   "metadata": {},
   "outputs": [
    {
     "name": "stdout",
     "output_type": "stream",
     "text": [
      "['Berlinck', 5.4, ['Outra', 'Lista']]\n"
     ]
    }
   ],
   "source": [
    "print(lista[-3:])"
   ]
  },
  {
   "cell_type": "code",
   "execution_count": 4,
   "metadata": {},
   "outputs": [
    {
     "name": "stdout",
     "output_type": "stream",
     "text": [
      "[10, 2, 3, 4, 5]\n"
     ]
    }
   ],
   "source": [
    "lista1= [1,2,3,4,5]\n",
    "lista2 = lista1\n",
    "lista2[0] = 10\n",
    "print(lista1)\n",
    "# Lembre-se que tudo são objetos em Python, logo nós apenas copiamos \n",
    "# a referência de lista1 em lista2"
   ]
  },
  {
   "cell_type": "code",
   "execution_count": 5,
   "metadata": {},
   "outputs": [
    {
     "name": "stdout",
     "output_type": "stream",
     "text": [
      "[1, 2, 3, 4, 5]\n",
      "[10, 2, 3, 4, 5]\n"
     ]
    }
   ],
   "source": [
    "# Forma correta de copiar listas\n",
    "lista1 = [1,2,3,4,5]\n",
    "lista2 = lista1[:]\n",
    "lista2[0] = 10\n",
    "print(lista1)\n",
    "print(lista2)\n"
   ]
  },
  {
   "cell_type": "code",
   "execution_count": 6,
   "metadata": {},
   "outputs": [
    {
     "name": "stdout",
     "output_type": "stream",
     "text": [
      "[1, 2, 3, 4, 5, 'Edgar']\n",
      "[10, 2, 3, 4, 5]\n"
     ]
    }
   ],
   "source": [
    "lista1.append('Edgar')\n",
    "print(lista1)\n",
    "print(lista2)"
   ]
  },
  {
   "cell_type": "code",
   "execution_count": 7,
   "metadata": {},
   "outputs": [
    {
     "name": "stdout",
     "output_type": "stream",
     "text": [
      "[2, 3, 4, 5, 'Edgar']\n"
     ]
    }
   ],
   "source": [
    "lista1.pop(0)\n",
    "print(lista1)\n"
   ]
  },
  {
   "cell_type": "code",
   "execution_count": 12,
   "metadata": {},
   "outputs": [],
   "source": [
    "lista1.append('Edgar')\n",
    "lista1.remove('Edgar')\n",
    "print(lista1)"
   ]
  },
  {
   "cell_type": "code",
   "execution_count": null,
   "metadata": {},
   "outputs": [],
   "source": []
  }
 ],
 "metadata": {
  "kernelspec": {
   "display_name": "Python 3",
   "language": "python",
   "name": "python3"
  },
  "language_info": {
   "codemirror_mode": {
    "name": "ipython",
    "version": 3
   },
   "file_extension": ".py",
   "mimetype": "text/x-python",
   "name": "python",
   "nbconvert_exporter": "python",
   "pygments_lexer": "ipython3",
   "version": "3.6.5"
  }
 },
 "nbformat": 4,
 "nbformat_minor": 2
}
