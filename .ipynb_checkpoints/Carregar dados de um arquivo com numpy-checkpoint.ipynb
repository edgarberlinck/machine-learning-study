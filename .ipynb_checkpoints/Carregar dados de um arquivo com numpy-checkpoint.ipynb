{
 "cells": [
  {
   "cell_type": "code",
   "execution_count": 1,
   "metadata": {},
   "outputs": [],
   "source": [
    "import numpy as np"
   ]
  },
  {
   "cell_type": "code",
   "execution_count": 3,
   "metadata": {},
   "outputs": [
    {
     "name": "stdout",
     "output_type": "stream",
     "text": [
      "[0.1212 0.104  0.5661 0.762 ]\n",
      "[0.842    0.5422   0.932    0.847361]\n",
      "[0.3672  0.34551 0.2332  0.1538 ]\n"
     ]
    }
   ],
   "source": [
    "val1, val2, val3 = np.loadtxt('dados.txt', skiprows=1, unpack=True)\n",
    "print(val1)\n",
    "print(val2)\n",
    "print(val3)"
   ]
  },
  {
   "cell_type": "markdown",
   "metadata": {},
   "source": [
    "### Podemos ter casos em que nosso arquivo tenha dados faltantes. Neste exemplo usaremos autro arquivo com dados faltantes igual a MISSING"
   ]
  },
  {
   "cell_type": "code",
   "execution_count": 9,
   "metadata": {},
   "outputs": [
    {
     "name": "stdout",
     "output_type": "stream",
     "text": [
      "[[0.1212   0.104    0.5661   0.762   ]\n",
      " [0.842    0.5422   0.932    0.847361]\n",
      " [0.3672   0.       0.2332   0.1538  ]]\n"
     ]
    }
   ],
   "source": [
    "array = np.genfromtxt('dados2.txt', skip_header=1, unpack=True, filling_values=0) # COlocar 0 quando tiver um MISSING\n",
    "print(array)"
   ]
  }
 ],
 "metadata": {
  "kernelspec": {
   "display_name": "Python 3",
   "language": "python",
   "name": "python3"
  },
  "language_info": {
   "codemirror_mode": {
    "name": "ipython",
    "version": 3
   },
   "file_extension": ".py",
   "mimetype": "text/x-python",
   "name": "python",
   "nbconvert_exporter": "python",
   "pygments_lexer": "ipython3",
   "version": "3.6.5"
  }
 },
 "nbformat": 4,
 "nbformat_minor": 2
}
