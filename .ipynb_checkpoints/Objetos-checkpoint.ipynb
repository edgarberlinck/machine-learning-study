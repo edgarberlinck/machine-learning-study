{
 "cells": [
  {
   "cell_type": "code",
   "execution_count": 2,
   "metadata": {},
   "outputs": [
    {
     "name": "stdout",
     "output_type": "stream",
     "text": [
      "Edgar\n",
      "35\n",
      "Edgar\n"
     ]
    }
   ],
   "source": [
    "class Pessoa:\n",
    "    def __init__(self, nome, idade): #Por padrão o primeiro parâmetro do construtor é o self (instância). \n",
    "                                     #Pode ter outro nome mas por padrão a comunidade usa o self\n",
    "            self.nome = nome\n",
    "            self.idade = idade\n",
    "    def imprimir_nome(self):\n",
    "        print(self.nome)\n",
    "            \n",
    "p = Pessoa('Edgar', 35)\n",
    "print(p.nome)\n",
    "print(p.idade)\n",
    "p.imprimir_nome()"
   ]
  },
  {
   "cell_type": "code",
   "execution_count": 3,
   "metadata": {},
   "outputs": [
    {
     "data": {
      "text/plain": [
       "['__class__',\n",
       " '__delattr__',\n",
       " '__dict__',\n",
       " '__dir__',\n",
       " '__doc__',\n",
       " '__eq__',\n",
       " '__format__',\n",
       " '__ge__',\n",
       " '__getattribute__',\n",
       " '__gt__',\n",
       " '__hash__',\n",
       " '__init__',\n",
       " '__init_subclass__',\n",
       " '__le__',\n",
       " '__lt__',\n",
       " '__module__',\n",
       " '__ne__',\n",
       " '__new__',\n",
       " '__reduce__',\n",
       " '__reduce_ex__',\n",
       " '__repr__',\n",
       " '__setattr__',\n",
       " '__sizeof__',\n",
       " '__str__',\n",
       " '__subclasshook__',\n",
       " '__weakref__',\n",
       " 'imprimir_nome']"
      ]
     },
     "execution_count": 3,
     "metadata": {},
     "output_type": "execute_result"
    }
   ],
   "source": [
    "dir(Pessoa)"
   ]
  },
  {
   "cell_type": "code",
   "execution_count": 5,
   "metadata": {},
   "outputs": [
    {
     "name": "stdout",
     "output_type": "stream",
     "text": [
      "100\n"
     ]
    }
   ],
   "source": [
    "class Conta:\n",
    "    def __init__(self, cliente, numero):\n",
    "        self.cliente = cliente\n",
    "        self.numero = numero\n",
    "\n",
    "class ContaEspecial(Conta):\n",
    "    def __init__(self, cliente, numero, limite=0):\n",
    "        Conta.__init__(self, cliente, numero)\n",
    "        self.limite = limite\n",
    "        \n",
    "conta = ContaEspecial('Edgar', '1234', 100)\n",
    "print(conta.limite)"
   ]
  },
  {
   "cell_type": "code",
   "execution_count": null,
   "metadata": {},
   "outputs": [],
   "source": []
  }
 ],
 "metadata": {
  "kernelspec": {
   "display_name": "Python 3",
   "language": "python",
   "name": "python3"
  },
  "language_info": {
   "codemirror_mode": {
    "name": "ipython",
    "version": 3
   },
   "file_extension": ".py",
   "mimetype": "text/x-python",
   "name": "python",
   "nbconvert_exporter": "python",
   "pygments_lexer": "ipython3",
   "version": "3.6.5"
  }
 },
 "nbformat": 4,
 "nbformat_minor": 2
}
